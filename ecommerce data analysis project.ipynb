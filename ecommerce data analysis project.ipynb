{
 "cells": [
  {
   "cell_type": "code",
   "execution_count": 2,
   "metadata": {},
   "outputs": [
    {
     "name": "stdout",
     "output_type": "stream",
     "text": [
      "  customer_id     name        city                  email    phone_no  \\\n",
      "3       c1001    steve       Tokyo        steve@gmail.com  4567897652   \n",
      "4       c1002     john      Sydney         john@gmail.com  9635847562   \n",
      "5       c1003    peter    kanagava  peterparker@gmail.com  7830847564   \n",
      "6       c1004  jackson       Tokyo      jackson@gmail.com  7839847562   \n",
      "7       c1005     jack  lake buana         jack@gmail.com  8876345621   \n",
      "\n",
      "          address  pin_code  \n",
      "3        f.g.road        99  \n",
      "4        k.c.road     75001  \n",
      "5   2f ikenobecho       171  \n",
      "6  24-2,sendagaya      8429  \n",
      "7     buena drive     32830  \n",
      "  product_id product_name     category sub_category  original_price  \\\n",
      "0       p102        Chair    furniture       Chairs         20000.0   \n",
      "1       p103       Laptop  Electronics     computer         60000.0   \n",
      "2       p104   Smartphone  Electronics        Phone         45000.0   \n",
      "3       p105      Blender    Appliance  Electronics           500.0   \n",
      "4       p106    Laptop Hp  Electronics     Computer         67200.0   \n",
      "\n",
      "   selling_price  stock  \n",
      "0       15000.00     10  \n",
      "1       55000.00     50  \n",
      "2       40000.00     20  \n",
      "3         450.00     10  \n",
      "4       55000.99     50  \n",
      "   order_id customer_id product_id  quantity  total_price payment_mode  \\\n",
      "0         3       c1004       P102       1.0       1000.0          CDD   \n",
      "1         4       c1005       P103       1.0      20000.0          CDD   \n",
      "2         5       c1005       P104       1.0      20000.0          CDD   \n",
      "3         7       c1002       P105       1.0      55000.0          CDD   \n",
      "4         8       c1003       P106       1.0      15000.0          CDD   \n",
      "\n",
      "  order_date order_status  \n",
      "0 2023-11-30      Pending  \n",
      "1 2023-11-30      Pending  \n",
      "2 2023-12-08    Delivered  \n",
      "3 2023-12-15    Delivered  \n",
      "4 2023-12-01    Delivered  \n"
     ]
    }
   ],
   "source": [
    "import mysql.connector\n",
    "import pandas as pd\n",
    "connection = mysql.connector.connect(\n",
    "user='root',\n",
    "password='12345',\n",
    "host='localhost',\n",
    "database='ecommerce'\n",
    ")\n",
    "# Create a cursor object to execute SQL queries\n",
    "cursor = connection.cursor()\n",
    "# Query data from the 'customer' table\n",
    "cursor.execute('SELECT * FROM customer')\n",
    "#After fetching data from the database we are storing it into Pandas DataFrame\n",
    "customer_data = pd.DataFrame(cursor.fetchall(), columns=[desc[0] for desc in\n",
    "cursor.description])\n",
    "# Query data from the 'product' table\n",
    "cursor.execute('SELECT * FROM product')\n",
    "product_data = pd.DataFrame(cursor.fetchall(), columns=[desc[0] for desc in\n",
    "cursor.description])\n",
    "# Query data from the 'order_details' table\n",
    "cursor.execute('SELECT * FROM order_details')\n",
    "order_data = pd.DataFrame(cursor.fetchall(), columns=[desc[0] for desc in\n",
    "cursor.description])\n",
    "#printing first 5 records from each table\n",
    "print(customer_data.tail())\n",
    "print(product_data.head())\n",
    "print(order_data.head())"
   ]
  },
  {
   "cell_type": "code",
   "execution_count": 1,
   "metadata": {},
   "outputs": [
    {
     "name": "stdout",
     "output_type": "stream",
     "text": [
      "Requirement already satisfied: mysql-connector-python in c:\\users\\dell\\.conda\\envs\\mlproject\\lib\\site-packages (9.0.0)\n"
     ]
    }
   ],
   "source": [
    "!pip install mysql-connector-python"
   ]
  },
  {
   "cell_type": "code",
   "execution_count": 3,
   "metadata": {},
   "outputs": [
    {
     "data": {
      "text/html": [
       "<div>\n",
       "<style scoped>\n",
       "    .dataframe tbody tr th:only-of-type {\n",
       "        vertical-align: middle;\n",
       "    }\n",
       "\n",
       "    .dataframe tbody tr th {\n",
       "        vertical-align: top;\n",
       "    }\n",
       "\n",
       "    .dataframe thead th {\n",
       "        text-align: right;\n",
       "    }\n",
       "</style>\n",
       "<table border=\"1\" class=\"dataframe\">\n",
       "  <thead>\n",
       "    <tr style=\"text-align: right;\">\n",
       "      <th></th>\n",
       "      <th>order_id</th>\n",
       "      <th>customer_id</th>\n",
       "      <th>product_id</th>\n",
       "      <th>quantity</th>\n",
       "      <th>total_price</th>\n",
       "      <th>payment_mode</th>\n",
       "      <th>order_date</th>\n",
       "      <th>order_status</th>\n",
       "    </tr>\n",
       "  </thead>\n",
       "  <tbody>\n",
       "    <tr>\n",
       "      <th>0</th>\n",
       "      <td>3</td>\n",
       "      <td>c1004</td>\n",
       "      <td>P102</td>\n",
       "      <td>1.0</td>\n",
       "      <td>1000.0</td>\n",
       "      <td>CDD</td>\n",
       "      <td>2023-11-30</td>\n",
       "      <td>Pending</td>\n",
       "    </tr>\n",
       "    <tr>\n",
       "      <th>1</th>\n",
       "      <td>4</td>\n",
       "      <td>c1005</td>\n",
       "      <td>P103</td>\n",
       "      <td>1.0</td>\n",
       "      <td>20000.0</td>\n",
       "      <td>CDD</td>\n",
       "      <td>2023-11-30</td>\n",
       "      <td>Pending</td>\n",
       "    </tr>\n",
       "    <tr>\n",
       "      <th>2</th>\n",
       "      <td>5</td>\n",
       "      <td>c1005</td>\n",
       "      <td>P104</td>\n",
       "      <td>1.0</td>\n",
       "      <td>20000.0</td>\n",
       "      <td>CDD</td>\n",
       "      <td>2023-12-08</td>\n",
       "      <td>Delivered</td>\n",
       "    </tr>\n",
       "    <tr>\n",
       "      <th>3</th>\n",
       "      <td>7</td>\n",
       "      <td>c1002</td>\n",
       "      <td>P105</td>\n",
       "      <td>1.0</td>\n",
       "      <td>55000.0</td>\n",
       "      <td>CDD</td>\n",
       "      <td>2023-12-15</td>\n",
       "      <td>Delivered</td>\n",
       "    </tr>\n",
       "    <tr>\n",
       "      <th>4</th>\n",
       "      <td>8</td>\n",
       "      <td>c1003</td>\n",
       "      <td>P106</td>\n",
       "      <td>1.0</td>\n",
       "      <td>15000.0</td>\n",
       "      <td>CDD</td>\n",
       "      <td>2023-12-01</td>\n",
       "      <td>Delivered</td>\n",
       "    </tr>\n",
       "  </tbody>\n",
       "</table>\n",
       "</div>"
      ],
      "text/plain": [
       "   order_id customer_id product_id  quantity  total_price payment_mode  \\\n",
       "0         3       c1004       P102       1.0       1000.0          CDD   \n",
       "1         4       c1005       P103       1.0      20000.0          CDD   \n",
       "2         5       c1005       P104       1.0      20000.0          CDD   \n",
       "3         7       c1002       P105       1.0      55000.0          CDD   \n",
       "4         8       c1003       P106       1.0      15000.0          CDD   \n",
       "\n",
       "  order_date order_status  \n",
       "0 2023-11-30      Pending  \n",
       "1 2023-11-30      Pending  \n",
       "2 2023-12-08    Delivered  \n",
       "3 2023-12-15    Delivered  \n",
       "4 2023-12-01    Delivered  "
      ]
     },
     "execution_count": 3,
     "metadata": {},
     "output_type": "execute_result"
    }
   ],
   "source": [
    "order_data"
   ]
  },
  {
   "cell_type": "markdown",
   "metadata": {},
   "source": [
    "#checking for missing values"
   ]
  },
  {
   "cell_type": "code",
   "execution_count": 4,
   "metadata": {},
   "outputs": [
    {
     "data": {
      "text/plain": [
       "order_id        0\n",
       "customer_id     0\n",
       "product_id      0\n",
       "quantity        0\n",
       "total_price     0\n",
       "payment_mode    0\n",
       "order_date      0\n",
       "order_status    0\n",
       "dtype: int64"
      ]
     },
     "execution_count": 4,
     "metadata": {},
     "output_type": "execute_result"
    }
   ],
   "source": [
    "order_data.isnull().sum()"
   ]
  },
  {
   "cell_type": "code",
   "execution_count": 5,
   "metadata": {},
   "outputs": [
    {
     "data": {
      "text/html": [
       "<div>\n",
       "<style scoped>\n",
       "    .dataframe tbody tr th:only-of-type {\n",
       "        vertical-align: middle;\n",
       "    }\n",
       "\n",
       "    .dataframe tbody tr th {\n",
       "        vertical-align: top;\n",
       "    }\n",
       "\n",
       "    .dataframe thead th {\n",
       "        text-align: right;\n",
       "    }\n",
       "</style>\n",
       "<table border=\"1\" class=\"dataframe\">\n",
       "  <thead>\n",
       "    <tr style=\"text-align: right;\">\n",
       "      <th></th>\n",
       "      <th>customer_id</th>\n",
       "      <th>name</th>\n",
       "      <th>city</th>\n",
       "      <th>email</th>\n",
       "      <th>phone_no</th>\n",
       "      <th>address</th>\n",
       "      <th>pin_code</th>\n",
       "    </tr>\n",
       "  </thead>\n",
       "  <tbody>\n",
       "    <tr>\n",
       "      <th>0</th>\n",
       "      <td>101</td>\n",
       "      <td>Alok</td>\n",
       "      <td>Gorakhpur</td>\n",
       "      <td>alok@gmail.com</td>\n",
       "      <td>6330847562</td>\n",
       "      <td>pari chowk</td>\n",
       "      <td>273158</td>\n",
       "    </tr>\n",
       "    <tr>\n",
       "      <th>1</th>\n",
       "      <td>102</td>\n",
       "      <td>Alex</td>\n",
       "      <td>Noida</td>\n",
       "      <td>alex@gmail.com</td>\n",
       "      <td>9635847562</td>\n",
       "      <td>surajpur</td>\n",
       "      <td>201308</td>\n",
       "    </tr>\n",
       "    <tr>\n",
       "      <th>2</th>\n",
       "      <td>103</td>\n",
       "      <td>Aman</td>\n",
       "      <td>Greater_noida</td>\n",
       "      <td>aman@gmail.com</td>\n",
       "      <td>7830847564</td>\n",
       "      <td>alpha1</td>\n",
       "      <td>201308</td>\n",
       "    </tr>\n",
       "    <tr>\n",
       "      <th>3</th>\n",
       "      <td>c1001</td>\n",
       "      <td>steve</td>\n",
       "      <td>Tokyo</td>\n",
       "      <td>steve@gmail.com</td>\n",
       "      <td>4567897652</td>\n",
       "      <td>f.g.road</td>\n",
       "      <td>99</td>\n",
       "    </tr>\n",
       "    <tr>\n",
       "      <th>4</th>\n",
       "      <td>c1002</td>\n",
       "      <td>john</td>\n",
       "      <td>Sydney</td>\n",
       "      <td>john@gmail.com</td>\n",
       "      <td>9635847562</td>\n",
       "      <td>k.c.road</td>\n",
       "      <td>75001</td>\n",
       "    </tr>\n",
       "    <tr>\n",
       "      <th>5</th>\n",
       "      <td>c1003</td>\n",
       "      <td>peter</td>\n",
       "      <td>kanagava</td>\n",
       "      <td>peterparker@gmail.com</td>\n",
       "      <td>7830847564</td>\n",
       "      <td>2f ikenobecho</td>\n",
       "      <td>171</td>\n",
       "    </tr>\n",
       "    <tr>\n",
       "      <th>6</th>\n",
       "      <td>c1004</td>\n",
       "      <td>jackson</td>\n",
       "      <td>Tokyo</td>\n",
       "      <td>jackson@gmail.com</td>\n",
       "      <td>7839847562</td>\n",
       "      <td>24-2,sendagaya</td>\n",
       "      <td>8429</td>\n",
       "    </tr>\n",
       "    <tr>\n",
       "      <th>7</th>\n",
       "      <td>c1005</td>\n",
       "      <td>jack</td>\n",
       "      <td>lake buana</td>\n",
       "      <td>jack@gmail.com</td>\n",
       "      <td>8876345621</td>\n",
       "      <td>buena drive</td>\n",
       "      <td>32830</td>\n",
       "    </tr>\n",
       "  </tbody>\n",
       "</table>\n",
       "</div>"
      ],
      "text/plain": [
       "  customer_id     name           city                  email    phone_no  \\\n",
       "0         101     Alok      Gorakhpur         alok@gmail.com  6330847562   \n",
       "1         102     Alex          Noida         alex@gmail.com  9635847562   \n",
       "2         103     Aman  Greater_noida         aman@gmail.com  7830847564   \n",
       "3       c1001    steve          Tokyo        steve@gmail.com  4567897652   \n",
       "4       c1002     john         Sydney         john@gmail.com  9635847562   \n",
       "5       c1003    peter       kanagava  peterparker@gmail.com  7830847564   \n",
       "6       c1004  jackson          Tokyo      jackson@gmail.com  7839847562   \n",
       "7       c1005     jack     lake buana         jack@gmail.com  8876345621   \n",
       "\n",
       "          address  pin_code  \n",
       "0      pari chowk    273158  \n",
       "1        surajpur    201308  \n",
       "2          alpha1    201308  \n",
       "3        f.g.road        99  \n",
       "4        k.c.road     75001  \n",
       "5   2f ikenobecho       171  \n",
       "6  24-2,sendagaya      8429  \n",
       "7     buena drive     32830  "
      ]
     },
     "execution_count": 5,
     "metadata": {},
     "output_type": "execute_result"
    }
   ],
   "source": [
    "customer_data"
   ]
  },
  {
   "cell_type": "code",
   "execution_count": 6,
   "metadata": {},
   "outputs": [
    {
     "data": {
      "text/plain": [
       "customer_id    0\n",
       "name           0\n",
       "city           0\n",
       "email          0\n",
       "phone_no       0\n",
       "address        0\n",
       "pin_code       0\n",
       "dtype: int64"
      ]
     },
     "execution_count": 6,
     "metadata": {},
     "output_type": "execute_result"
    }
   ],
   "source": [
    "customer_data.isnull().sum()"
   ]
  },
  {
   "cell_type": "code",
   "execution_count": 7,
   "metadata": {},
   "outputs": [
    {
     "data": {
      "text/html": [
       "<div>\n",
       "<style scoped>\n",
       "    .dataframe tbody tr th:only-of-type {\n",
       "        vertical-align: middle;\n",
       "    }\n",
       "\n",
       "    .dataframe tbody tr th {\n",
       "        vertical-align: top;\n",
       "    }\n",
       "\n",
       "    .dataframe thead th {\n",
       "        text-align: right;\n",
       "    }\n",
       "</style>\n",
       "<table border=\"1\" class=\"dataframe\">\n",
       "  <thead>\n",
       "    <tr style=\"text-align: right;\">\n",
       "      <th></th>\n",
       "      <th>product_id</th>\n",
       "      <th>product_name</th>\n",
       "      <th>category</th>\n",
       "      <th>sub_category</th>\n",
       "      <th>original_price</th>\n",
       "      <th>selling_price</th>\n",
       "      <th>stock</th>\n",
       "    </tr>\n",
       "  </thead>\n",
       "  <tbody>\n",
       "    <tr>\n",
       "      <th>0</th>\n",
       "      <td>p102</td>\n",
       "      <td>Chair</td>\n",
       "      <td>furniture</td>\n",
       "      <td>Chairs</td>\n",
       "      <td>20000.0</td>\n",
       "      <td>15000.00</td>\n",
       "      <td>10</td>\n",
       "    </tr>\n",
       "    <tr>\n",
       "      <th>1</th>\n",
       "      <td>p103</td>\n",
       "      <td>Laptop</td>\n",
       "      <td>Electronics</td>\n",
       "      <td>computer</td>\n",
       "      <td>60000.0</td>\n",
       "      <td>55000.00</td>\n",
       "      <td>50</td>\n",
       "    </tr>\n",
       "    <tr>\n",
       "      <th>2</th>\n",
       "      <td>p104</td>\n",
       "      <td>Smartphone</td>\n",
       "      <td>Electronics</td>\n",
       "      <td>Phone</td>\n",
       "      <td>45000.0</td>\n",
       "      <td>40000.00</td>\n",
       "      <td>20</td>\n",
       "    </tr>\n",
       "    <tr>\n",
       "      <th>3</th>\n",
       "      <td>p105</td>\n",
       "      <td>Blender</td>\n",
       "      <td>Appliance</td>\n",
       "      <td>Electronics</td>\n",
       "      <td>500.0</td>\n",
       "      <td>450.00</td>\n",
       "      <td>10</td>\n",
       "    </tr>\n",
       "    <tr>\n",
       "      <th>4</th>\n",
       "      <td>p106</td>\n",
       "      <td>Laptop Hp</td>\n",
       "      <td>Electronics</td>\n",
       "      <td>Computer</td>\n",
       "      <td>67200.0</td>\n",
       "      <td>55000.99</td>\n",
       "      <td>50</td>\n",
       "    </tr>\n",
       "  </tbody>\n",
       "</table>\n",
       "</div>"
      ],
      "text/plain": [
       "  product_id product_name     category sub_category  original_price  \\\n",
       "0       p102        Chair    furniture       Chairs         20000.0   \n",
       "1       p103       Laptop  Electronics     computer         60000.0   \n",
       "2       p104   Smartphone  Electronics        Phone         45000.0   \n",
       "3       p105      Blender    Appliance  Electronics           500.0   \n",
       "4       p106    Laptop Hp  Electronics     Computer         67200.0   \n",
       "\n",
       "   selling_price  stock  \n",
       "0       15000.00     10  \n",
       "1       55000.00     50  \n",
       "2       40000.00     20  \n",
       "3         450.00     10  \n",
       "4       55000.99     50  "
      ]
     },
     "execution_count": 7,
     "metadata": {},
     "output_type": "execute_result"
    }
   ],
   "source": [
    "product_data"
   ]
  },
  {
   "cell_type": "code",
   "execution_count": 8,
   "metadata": {},
   "outputs": [
    {
     "data": {
      "text/plain": [
       "product_id        0\n",
       "product_name      0\n",
       "category          0\n",
       "sub_category      0\n",
       "original_price    0\n",
       "selling_price     0\n",
       "stock             0\n",
       "dtype: int64"
      ]
     },
     "execution_count": 8,
     "metadata": {},
     "output_type": "execute_result"
    }
   ],
   "source": [
    "product_data.isnull().sum()"
   ]
  },
  {
   "cell_type": "code",
   "execution_count": 9,
   "metadata": {},
   "outputs": [
    {
     "name": "stdout",
     "output_type": "stream",
     "text": [
      "<class 'pandas.core.frame.DataFrame'>\n",
      "RangeIndex: 8 entries, 0 to 7\n",
      "Data columns (total 7 columns):\n",
      " #   Column       Non-Null Count  Dtype \n",
      "---  ------       --------------  ----- \n",
      " 0   customer_id  8 non-null      object\n",
      " 1   name         8 non-null      object\n",
      " 2   city         8 non-null      object\n",
      " 3   email        8 non-null      object\n",
      " 4   phone_no     8 non-null      object\n",
      " 5   address      8 non-null      object\n",
      " 6   pin_code     8 non-null      int64 \n",
      "dtypes: int64(1), object(6)\n",
      "memory usage: 576.0+ bytes\n"
     ]
    }
   ],
   "source": [
    "customer_data.info()"
   ]
  },
  {
   "cell_type": "code",
   "execution_count": 10,
   "metadata": {},
   "outputs": [
    {
     "data": {
      "text/plain": [
       "(8, 7)"
      ]
     },
     "execution_count": 10,
     "metadata": {},
     "output_type": "execute_result"
    }
   ],
   "source": [
    "customer_data.shape"
   ]
  },
  {
   "cell_type": "code",
   "execution_count": 11,
   "metadata": {},
   "outputs": [
    {
     "data": {
      "text/html": [
       "<div>\n",
       "<style scoped>\n",
       "    .dataframe tbody tr th:only-of-type {\n",
       "        vertical-align: middle;\n",
       "    }\n",
       "\n",
       "    .dataframe tbody tr th {\n",
       "        vertical-align: top;\n",
       "    }\n",
       "\n",
       "    .dataframe thead th {\n",
       "        text-align: right;\n",
       "    }\n",
       "</style>\n",
       "<table border=\"1\" class=\"dataframe\">\n",
       "  <thead>\n",
       "    <tr style=\"text-align: right;\">\n",
       "      <th></th>\n",
       "      <th>pin_code</th>\n",
       "    </tr>\n",
       "  </thead>\n",
       "  <tbody>\n",
       "    <tr>\n",
       "      <th>count</th>\n",
       "      <td>8.000000</td>\n",
       "    </tr>\n",
       "    <tr>\n",
       "      <th>mean</th>\n",
       "      <td>99038.000000</td>\n",
       "    </tr>\n",
       "    <tr>\n",
       "      <th>std</th>\n",
       "      <td>109525.572437</td>\n",
       "    </tr>\n",
       "    <tr>\n",
       "      <th>min</th>\n",
       "      <td>99.000000</td>\n",
       "    </tr>\n",
       "    <tr>\n",
       "      <th>25%</th>\n",
       "      <td>6364.500000</td>\n",
       "    </tr>\n",
       "    <tr>\n",
       "      <th>50%</th>\n",
       "      <td>53915.500000</td>\n",
       "    </tr>\n",
       "    <tr>\n",
       "      <th>75%</th>\n",
       "      <td>201308.000000</td>\n",
       "    </tr>\n",
       "    <tr>\n",
       "      <th>max</th>\n",
       "      <td>273158.000000</td>\n",
       "    </tr>\n",
       "  </tbody>\n",
       "</table>\n",
       "</div>"
      ],
      "text/plain": [
       "            pin_code\n",
       "count       8.000000\n",
       "mean    99038.000000\n",
       "std    109525.572437\n",
       "min        99.000000\n",
       "25%      6364.500000\n",
       "50%     53915.500000\n",
       "75%    201308.000000\n",
       "max    273158.000000"
      ]
     },
     "execution_count": 11,
     "metadata": {},
     "output_type": "execute_result"
    }
   ],
   "source": [
    "customer_data.describe()"
   ]
  },
  {
   "cell_type": "code",
   "execution_count": 12,
   "metadata": {},
   "outputs": [
    {
     "name": "stdout",
     "output_type": "stream",
     "text": [
      "<class 'pandas.core.frame.DataFrame'>\n",
      "RangeIndex: 5 entries, 0 to 4\n",
      "Data columns (total 8 columns):\n",
      " #   Column        Non-Null Count  Dtype         \n",
      "---  ------        --------------  -----         \n",
      " 0   order_id      5 non-null      int64         \n",
      " 1   customer_id   5 non-null      object        \n",
      " 2   product_id    5 non-null      object        \n",
      " 3   quantity      5 non-null      float64       \n",
      " 4   total_price   5 non-null      float64       \n",
      " 5   payment_mode  5 non-null      object        \n",
      " 6   order_date    5 non-null      datetime64[ns]\n",
      " 7   order_status  5 non-null      object        \n",
      "dtypes: datetime64[ns](1), float64(2), int64(1), object(4)\n",
      "memory usage: 448.0+ bytes\n"
     ]
    }
   ],
   "source": [
    "order_data.info()"
   ]
  },
  {
   "cell_type": "code",
   "execution_count": 14,
   "metadata": {},
   "outputs": [
    {
     "data": {
      "text/html": [
       "<div>\n",
       "<style scoped>\n",
       "    .dataframe tbody tr th:only-of-type {\n",
       "        vertical-align: middle;\n",
       "    }\n",
       "\n",
       "    .dataframe tbody tr th {\n",
       "        vertical-align: top;\n",
       "    }\n",
       "\n",
       "    .dataframe thead th {\n",
       "        text-align: right;\n",
       "    }\n",
       "</style>\n",
       "<table border=\"1\" class=\"dataframe\">\n",
       "  <thead>\n",
       "    <tr style=\"text-align: right;\">\n",
       "      <th></th>\n",
       "      <th>order_id</th>\n",
       "      <th>quantity</th>\n",
       "      <th>total_price</th>\n",
       "      <th>order_date</th>\n",
       "    </tr>\n",
       "  </thead>\n",
       "  <tbody>\n",
       "    <tr>\n",
       "      <th>count</th>\n",
       "      <td>5.000000</td>\n",
       "      <td>5.0</td>\n",
       "      <td>5.000000</td>\n",
       "      <td>5</td>\n",
       "    </tr>\n",
       "    <tr>\n",
       "      <th>mean</th>\n",
       "      <td>5.400000</td>\n",
       "      <td>1.0</td>\n",
       "      <td>22200.000000</td>\n",
       "      <td>2023-12-04 19:12:00</td>\n",
       "    </tr>\n",
       "    <tr>\n",
       "      <th>min</th>\n",
       "      <td>3.000000</td>\n",
       "      <td>1.0</td>\n",
       "      <td>1000.000000</td>\n",
       "      <td>2023-11-30 00:00:00</td>\n",
       "    </tr>\n",
       "    <tr>\n",
       "      <th>25%</th>\n",
       "      <td>4.000000</td>\n",
       "      <td>1.0</td>\n",
       "      <td>15000.000000</td>\n",
       "      <td>2023-11-30 00:00:00</td>\n",
       "    </tr>\n",
       "    <tr>\n",
       "      <th>50%</th>\n",
       "      <td>5.000000</td>\n",
       "      <td>1.0</td>\n",
       "      <td>20000.000000</td>\n",
       "      <td>2023-12-01 00:00:00</td>\n",
       "    </tr>\n",
       "    <tr>\n",
       "      <th>75%</th>\n",
       "      <td>7.000000</td>\n",
       "      <td>1.0</td>\n",
       "      <td>20000.000000</td>\n",
       "      <td>2023-12-08 00:00:00</td>\n",
       "    </tr>\n",
       "    <tr>\n",
       "      <th>max</th>\n",
       "      <td>8.000000</td>\n",
       "      <td>1.0</td>\n",
       "      <td>55000.000000</td>\n",
       "      <td>2023-12-15 00:00:00</td>\n",
       "    </tr>\n",
       "    <tr>\n",
       "      <th>std</th>\n",
       "      <td>2.073644</td>\n",
       "      <td>0.0</td>\n",
       "      <td>19917.329138</td>\n",
       "      <td>NaN</td>\n",
       "    </tr>\n",
       "  </tbody>\n",
       "</table>\n",
       "</div>"
      ],
      "text/plain": [
       "       order_id  quantity   total_price           order_date\n",
       "count  5.000000       5.0      5.000000                    5\n",
       "mean   5.400000       1.0  22200.000000  2023-12-04 19:12:00\n",
       "min    3.000000       1.0   1000.000000  2023-11-30 00:00:00\n",
       "25%    4.000000       1.0  15000.000000  2023-11-30 00:00:00\n",
       "50%    5.000000       1.0  20000.000000  2023-12-01 00:00:00\n",
       "75%    7.000000       1.0  20000.000000  2023-12-08 00:00:00\n",
       "max    8.000000       1.0  55000.000000  2023-12-15 00:00:00\n",
       "std    2.073644       0.0  19917.329138                  NaN"
      ]
     },
     "execution_count": 14,
     "metadata": {},
     "output_type": "execute_result"
    }
   ],
   "source": [
    "order_data.describe()"
   ]
  },
  {
   "cell_type": "code",
   "execution_count": 15,
   "metadata": {},
   "outputs": [
    {
     "name": "stdout",
     "output_type": "stream",
     "text": [
      "<class 'pandas.core.frame.DataFrame'>\n",
      "RangeIndex: 5 entries, 0 to 4\n",
      "Data columns (total 7 columns):\n",
      " #   Column          Non-Null Count  Dtype  \n",
      "---  ------          --------------  -----  \n",
      " 0   product_id      5 non-null      object \n",
      " 1   product_name    5 non-null      object \n",
      " 2   category        5 non-null      object \n",
      " 3   sub_category    5 non-null      object \n",
      " 4   original_price  5 non-null      float64\n",
      " 5   selling_price   5 non-null      float64\n",
      " 6   stock           5 non-null      int64  \n",
      "dtypes: float64(2), int64(1), object(4)\n",
      "memory usage: 408.0+ bytes\n"
     ]
    }
   ],
   "source": [
    "product_data.info()"
   ]
  },
  {
   "cell_type": "code",
   "execution_count": 16,
   "metadata": {},
   "outputs": [
    {
     "data": {
      "text/plain": [
       "np.int64(0)"
      ]
     },
     "execution_count": 16,
     "metadata": {},
     "output_type": "execute_result"
    }
   ],
   "source": [
    "product_data.duplicated().sum()"
   ]
  },
  {
   "cell_type": "markdown",
   "metadata": {},
   "source": [
    "# Exploratory Data Analysis"
   ]
  },
  {
   "cell_type": "code",
   "execution_count": 17,
   "metadata": {},
   "outputs": [
    {
     "data": {
      "text/plain": [
       "customer_id  name     city           email                  phone_no    address         pin_code\n",
       "101          Alok     Gorakhpur      alok@gmail.com         6330847562  pari chowk      273158      1\n",
       "102          Alex     Noida          alex@gmail.com         9635847562  surajpur        201308      1\n",
       "103          Aman     Greater_noida  aman@gmail.com         7830847564  alpha1          201308      1\n",
       "c1001        steve    Tokyo          steve@gmail.com        4567897652  f.g.road        99          1\n",
       "c1002        john     Sydney         john@gmail.com         9635847562  k.c.road        75001       1\n",
       "c1003        peter    kanagava       peterparker@gmail.com  7830847564  2f ikenobecho   171         1\n",
       "c1004        jackson  Tokyo          jackson@gmail.com      7839847562  24-2,sendagaya  8429        1\n",
       "c1005        jack     lake buana     jack@gmail.com         8876345621  buena drive     32830       1\n",
       "Name: count, dtype: int64"
      ]
     },
     "execution_count": 17,
     "metadata": {},
     "output_type": "execute_result"
    }
   ],
   "source": [
    "customer_data.value_counts()"
   ]
  },
  {
   "cell_type": "code",
   "execution_count": 18,
   "metadata": {},
   "outputs": [],
   "source": [
    "import matplotlib.pyplot as plt"
   ]
  },
  {
   "cell_type": "markdown",
   "metadata": {},
   "source": [
    "# ● Customer Analysis:\n",
    "○ Identify the total number of customers City wise."
   ]
  },
  {
   "cell_type": "code",
   "execution_count": 19,
   "metadata": {},
   "outputs": [
    {
     "data": {
      "image/png": "[encoded data removed]",
      "text/plain": [
       "<Figure size 640x480 with 1 Axes>"
      ]
     },
     "metadata": {},
     "output_type": "display_data"
    }
   ],
   "source": [
    "plt.bar(customer_data['city'].values,customer_data['name'].index)\n",
    "plt.title('Numbers of customer city wise')\n",
    "plt.xlabel('city')\n",
    "plt.ylabel('Number of customer')\n",
    "plt.show()"
   ]
  },
  {
   "cell_type": "markdown",
   "metadata": {},
   "source": [
    "#  Identify the most frequent customers based on their order history."
   ]
  },
  {
   "cell_type": "code",
   "execution_count": 20,
   "metadata": {},
   "outputs": [
    {
     "data": {
      "image/png": "[encoded data removed]",
      "text/plain": [
       "<Figure size 640x480 with 1 Axes>"
      ]
     },
     "metadata": {},
     "output_type": "display_data"
    }
   ],
   "source": [
    "plt.hist(customer_data['customer_id'],order_data['order_id'].values,alpha=0.8)\n",
    "plt.title('Top 10 most Frequent Customers')\n",
    "plt.xlabel('Customer id')\n",
    "plt.ylabel('Number of Orders')\n",
    "plt.show()"
   ]
  },
  {
   "cell_type": "code",
   "execution_count": 21,
   "metadata": {},
   "outputs": [
    {
     "data": {
      "text/plain": [
       "quantity\n",
       "1.0    5\n",
       "Name: count, dtype: int64"
      ]
     },
     "execution_count": 21,
     "metadata": {},
     "output_type": "execute_result"
    }
   ],
   "source": [
    "order_data['quantity'].value_counts()"
   ]
  },
  {
   "cell_type": "code",
   "execution_count": 22,
   "metadata": {},
   "outputs": [
    {
     "data": {
      "text/html": [
       "<div>\n",
       "<style scoped>\n",
       "    .dataframe tbody tr th:only-of-type {\n",
       "        vertical-align: middle;\n",
       "    }\n",
       "\n",
       "    .dataframe tbody tr th {\n",
       "        vertical-align: top;\n",
       "    }\n",
       "\n",
       "    .dataframe thead th {\n",
       "        text-align: right;\n",
       "    }\n",
       "</style>\n",
       "<table border=\"1\" class=\"dataframe\">\n",
       "  <thead>\n",
       "    <tr style=\"text-align: right;\">\n",
       "      <th></th>\n",
       "      <th>order_id</th>\n",
       "      <th>customer_id</th>\n",
       "      <th>product_id</th>\n",
       "      <th>quantity</th>\n",
       "      <th>total_price</th>\n",
       "      <th>payment_mode</th>\n",
       "      <th>order_date</th>\n",
       "      <th>order_status</th>\n",
       "    </tr>\n",
       "  </thead>\n",
       "  <tbody>\n",
       "    <tr>\n",
       "      <th>0</th>\n",
       "      <td>3</td>\n",
       "      <td>c1004</td>\n",
       "      <td>P102</td>\n",
       "      <td>1.0</td>\n",
       "      <td>1000.0</td>\n",
       "      <td>CDD</td>\n",
       "      <td>2023-11-30</td>\n",
       "      <td>Pending</td>\n",
       "    </tr>\n",
       "    <tr>\n",
       "      <th>1</th>\n",
       "      <td>4</td>\n",
       "      <td>c1005</td>\n",
       "      <td>P103</td>\n",
       "      <td>1.0</td>\n",
       "      <td>20000.0</td>\n",
       "      <td>CDD</td>\n",
       "      <td>2023-11-30</td>\n",
       "      <td>Pending</td>\n",
       "    </tr>\n",
       "    <tr>\n",
       "      <th>2</th>\n",
       "      <td>5</td>\n",
       "      <td>c1005</td>\n",
       "      <td>P104</td>\n",
       "      <td>1.0</td>\n",
       "      <td>20000.0</td>\n",
       "      <td>CDD</td>\n",
       "      <td>2023-12-08</td>\n",
       "      <td>Delivered</td>\n",
       "    </tr>\n",
       "    <tr>\n",
       "      <th>3</th>\n",
       "      <td>7</td>\n",
       "      <td>c1002</td>\n",
       "      <td>P105</td>\n",
       "      <td>1.0</td>\n",
       "      <td>55000.0</td>\n",
       "      <td>CDD</td>\n",
       "      <td>2023-12-15</td>\n",
       "      <td>Delivered</td>\n",
       "    </tr>\n",
       "    <tr>\n",
       "      <th>4</th>\n",
       "      <td>8</td>\n",
       "      <td>c1003</td>\n",
       "      <td>P106</td>\n",
       "      <td>1.0</td>\n",
       "      <td>15000.0</td>\n",
       "      <td>CDD</td>\n",
       "      <td>2023-12-01</td>\n",
       "      <td>Delivered</td>\n",
       "    </tr>\n",
       "  </tbody>\n",
       "</table>\n",
       "</div>"
      ],
      "text/plain": [
       "   order_id customer_id product_id  quantity  total_price payment_mode  \\\n",
       "0         3       c1004       P102       1.0       1000.0          CDD   \n",
       "1         4       c1005       P103       1.0      20000.0          CDD   \n",
       "2         5       c1005       P104       1.0      20000.0          CDD   \n",
       "3         7       c1002       P105       1.0      55000.0          CDD   \n",
       "4         8       c1003       P106       1.0      15000.0          CDD   \n",
       "\n",
       "  order_date order_status  \n",
       "0 2023-11-30      Pending  \n",
       "1 2023-11-30      Pending  \n",
       "2 2023-12-08    Delivered  \n",
       "3 2023-12-15    Delivered  \n",
       "4 2023-12-01    Delivered  "
      ]
     },
     "execution_count": 22,
     "metadata": {},
     "output_type": "execute_result"
    }
   ],
   "source": [
    "order_data"
   ]
  },
  {
   "cell_type": "markdown",
   "metadata": {},
   "source": [
    "# ● Product Analysis:\n",
    " Determine the total number of products available by category."
   ]
  },
  {
   "cell_type": "code",
   "execution_count": 23,
   "metadata": {},
   "outputs": [
    {
     "data": {
      "text/html": [
       "<div>\n",
       "<style scoped>\n",
       "    .dataframe tbody tr th:only-of-type {\n",
       "        vertical-align: middle;\n",
       "    }\n",
       "\n",
       "    .dataframe tbody tr th {\n",
       "        vertical-align: top;\n",
       "    }\n",
       "\n",
       "    .dataframe thead th {\n",
       "        text-align: right;\n",
       "    }\n",
       "</style>\n",
       "<table border=\"1\" class=\"dataframe\">\n",
       "  <thead>\n",
       "    <tr style=\"text-align: right;\">\n",
       "      <th></th>\n",
       "      <th>product_id</th>\n",
       "      <th>product_name</th>\n",
       "      <th>category</th>\n",
       "      <th>sub_category</th>\n",
       "      <th>original_price</th>\n",
       "      <th>selling_price</th>\n",
       "      <th>stock</th>\n",
       "    </tr>\n",
       "  </thead>\n",
       "  <tbody>\n",
       "    <tr>\n",
       "      <th>0</th>\n",
       "      <td>p102</td>\n",
       "      <td>Chair</td>\n",
       "      <td>furniture</td>\n",
       "      <td>Chairs</td>\n",
       "      <td>20000.0</td>\n",
       "      <td>15000.00</td>\n",
       "      <td>10</td>\n",
       "    </tr>\n",
       "    <tr>\n",
       "      <th>1</th>\n",
       "      <td>p103</td>\n",
       "      <td>Laptop</td>\n",
       "      <td>Electronics</td>\n",
       "      <td>computer</td>\n",
       "      <td>60000.0</td>\n",
       "      <td>55000.00</td>\n",
       "      <td>50</td>\n",
       "    </tr>\n",
       "    <tr>\n",
       "      <th>2</th>\n",
       "      <td>p104</td>\n",
       "      <td>Smartphone</td>\n",
       "      <td>Electronics</td>\n",
       "      <td>Phone</td>\n",
       "      <td>45000.0</td>\n",
       "      <td>40000.00</td>\n",
       "      <td>20</td>\n",
       "    </tr>\n",
       "    <tr>\n",
       "      <th>3</th>\n",
       "      <td>p105</td>\n",
       "      <td>Blender</td>\n",
       "      <td>Appliance</td>\n",
       "      <td>Electronics</td>\n",
       "      <td>500.0</td>\n",
       "      <td>450.00</td>\n",
       "      <td>10</td>\n",
       "    </tr>\n",
       "    <tr>\n",
       "      <th>4</th>\n",
       "      <td>p106</td>\n",
       "      <td>Laptop Hp</td>\n",
       "      <td>Electronics</td>\n",
       "      <td>Computer</td>\n",
       "      <td>67200.0</td>\n",
       "      <td>55000.99</td>\n",
       "      <td>50</td>\n",
       "    </tr>\n",
       "  </tbody>\n",
       "</table>\n",
       "</div>"
      ],
      "text/plain": [
       "  product_id product_name     category sub_category  original_price  \\\n",
       "0       p102        Chair    furniture       Chairs         20000.0   \n",
       "1       p103       Laptop  Electronics     computer         60000.0   \n",
       "2       p104   Smartphone  Electronics        Phone         45000.0   \n",
       "3       p105      Blender    Appliance  Electronics           500.0   \n",
       "4       p106    Laptop Hp  Electronics     Computer         67200.0   \n",
       "\n",
       "   selling_price  stock  \n",
       "0       15000.00     10  \n",
       "1       55000.00     50  \n",
       "2       40000.00     20  \n",
       "3         450.00     10  \n",
       "4       55000.99     50  "
      ]
     },
     "execution_count": 23,
     "metadata": {},
     "output_type": "execute_result"
    }
   ],
   "source": [
    "product_data"
   ]
  },
  {
   "cell_type": "code",
   "execution_count": 24,
   "metadata": {},
   "outputs": [
    {
     "data": {
      "text/plain": [
       "category\n",
       "Electronics    3\n",
       "furniture      1\n",
       "Appliance      1\n",
       "Name: count, dtype: int64"
      ]
     },
     "execution_count": 24,
     "metadata": {},
     "output_type": "execute_result"
    }
   ],
   "source": [
    "product_data['category'].value_counts()"
   ]
  },
  {
   "cell_type": "code",
   "execution_count": 25,
   "metadata": {},
   "outputs": [
    {
     "data": {
      "text/plain": [
       "<Axes: xlabel='category'>"
      ]
     },
     "execution_count": 25,
     "metadata": {},
     "output_type": "execute_result"
    },
    {
     "data": {
      "image/png": "[encoded data removed]",
      "text/plain": [
       "<Figure size 640x480 with 1 Axes>"
      ]
     },
     "metadata": {},
     "output_type": "display_data"
    }
   ],
   "source": [
    "product_data['category'].value_counts().plot(kind='bar',color='red')"
   ]
  },
  {
   "cell_type": "code",
   "execution_count": 26,
   "metadata": {},
   "outputs": [
    {
     "data": {
      "image/png": "[encoded data removed]",
      "text/plain": [
       "<Figure size 640x480 with 1 Axes>"
      ]
     },
     "metadata": {},
     "output_type": "display_data"
    }
   ],
   "source": [
    "plt.bar(product_data['category'].values,product_data['product_id'].index)\n",
    "plt.title('Distribution of Products')\n",
    "plt.xlabel(\"Product id\")\n",
    "plt.ylabel('Number of Occurances')\n",
    "plt.show()"
   ]
  },
  {
   "cell_type": "markdown",
   "metadata": {},
   "source": [
    "#  Analyze the distribution of products across sub-categories."
   ]
  },
  {
   "cell_type": "code",
   "execution_count": 27,
   "metadata": {},
   "outputs": [
    {
     "data": {
      "image/png": "[encoded data removed]",
      "text/plain": [
       "<Figure size 640x480 with 1 Axes>"
      ]
     },
     "metadata": {},
     "output_type": "display_data"
    }
   ],
   "source": [
    "plt.bar(product_data['sub_category'].values,product_data['product_id'].index)\n",
    "plt.title('Distribution of Products Across sub-category')\n",
    "plt.xlabel(\"Sub-Category\")\n",
    "plt.ylabel('Number of Products')\n",
    "plt.show()"
   ]
  },
  {
   "cell_type": "markdown",
   "metadata": {},
   "source": [
    "#  Identify products with low stock levels."
   ]
  },
  {
   "cell_type": "code",
   "execution_count": 28,
   "metadata": {},
   "outputs": [
    {
     "data": {
      "image/png": "[encoded data removed]",
      "text/plain": [
       "<Figure size 640x480 with 1 Axes>"
      ]
     },
     "metadata": {},
     "output_type": "display_data"
    }
   ],
   "source": [
    "plt.bar(product_data['sub_category'].values,product_data['stock'].values,color='orange')\n",
    "plt.title('products with low stock Levels')\n",
    "plt.xlabel(\"product Id\")\n",
    "plt.ylabel('Stock Level')\n",
    "plt.show()\n"
   ]
  },
  {
   "cell_type": "markdown",
   "metadata": {},
   "source": [
    "#  Calculate the average, maximum, and minimum selling prices for products."
   ]
  },
  {
   "cell_type": "code",
   "execution_count": 29,
   "metadata": {},
   "outputs": [],
   "source": [
    "Avg_price=product_data['selling_price'].mean()\n",
    "max_price=product_data['selling_price'].max()\n",
    "min_price=product_data['selling_price'].min()"
   ]
  },
  {
   "cell_type": "code",
   "execution_count": 30,
   "metadata": {},
   "outputs": [
    {
     "data": {
      "text/plain": [
       "np.float64(33090.198)"
      ]
     },
     "execution_count": 30,
     "metadata": {},
     "output_type": "execute_result"
    }
   ],
   "source": [
    "Avg_price"
   ]
  },
  {
   "cell_type": "code",
   "execution_count": 31,
   "metadata": {},
   "outputs": [
    {
     "data": {
      "text/plain": [
       "np.float64(55000.99)"
      ]
     },
     "execution_count": 31,
     "metadata": {},
     "output_type": "execute_result"
    }
   ],
   "source": [
    "max_price\n"
   ]
  },
  {
   "cell_type": "code",
   "execution_count": 32,
   "metadata": {},
   "outputs": [
    {
     "data": {
      "text/plain": [
       "np.float64(450.0)"
      ]
     },
     "execution_count": 32,
     "metadata": {},
     "output_type": "execute_result"
    }
   ],
   "source": [
    "min_price"
   ]
  },
  {
   "cell_type": "code",
   "execution_count": 33,
   "metadata": {},
   "outputs": [],
   "source": [
    "# creating data for bar chart\n",
    "prices=[Avg_price,max_price,min_price]\n",
    "labels=['Avg_price','max_price','min_price']"
   ]
  },
  {
   "cell_type": "code",
   "execution_count": 34,
   "metadata": {},
   "outputs": [
    {
     "data": {
      "image/png": "[encoded data removed]",
      "text/plain": [
       "<Figure size 1000x800 with 1 Axes>"
      ]
     },
     "metadata": {},
     "output_type": "display_data"
    }
   ],
   "source": [
    "plt.figure(figsize=(10,8))\n",
    "plt.bar(labels,prices,color=['orange','green','blue'])\n",
    "plt.title('Average,Maximum and minimum prices for Products')\n",
    "plt.xlabel('price type')\n",
    "plt.ylabel('selling  price')\n",
    "plt.show()"
   ]
  },
  {
   "cell_type": "markdown",
   "metadata": {},
   "source": [
    "# ● Order Analysis:\n",
    " Calculate the top 10 orders product wise"
   ]
  },
  {
   "cell_type": "code",
   "execution_count": 35,
   "metadata": {},
   "outputs": [],
   "source": [
    "top_order=product_data.sort_values(by='stock',ascending=False).head()"
   ]
  },
  {
   "cell_type": "code",
   "execution_count": 36,
   "metadata": {},
   "outputs": [
    {
     "data": {
      "text/html": [
       "<div>\n",
       "<style scoped>\n",
       "    .dataframe tbody tr th:only-of-type {\n",
       "        vertical-align: middle;\n",
       "    }\n",
       "\n",
       "    .dataframe tbody tr th {\n",
       "        vertical-align: top;\n",
       "    }\n",
       "\n",
       "    .dataframe thead th {\n",
       "        text-align: right;\n",
       "    }\n",
       "</style>\n",
       "<table border=\"1\" class=\"dataframe\">\n",
       "  <thead>\n",
       "    <tr style=\"text-align: right;\">\n",
       "      <th></th>\n",
       "      <th>product_id</th>\n",
       "      <th>product_name</th>\n",
       "      <th>category</th>\n",
       "      <th>sub_category</th>\n",
       "      <th>original_price</th>\n",
       "      <th>selling_price</th>\n",
       "      <th>stock</th>\n",
       "    </tr>\n",
       "  </thead>\n",
       "  <tbody>\n",
       "    <tr>\n",
       "      <th>1</th>\n",
       "      <td>p103</td>\n",
       "      <td>Laptop</td>\n",
       "      <td>Electronics</td>\n",
       "      <td>computer</td>\n",
       "      <td>60000.0</td>\n",
       "      <td>55000.00</td>\n",
       "      <td>50</td>\n",
       "    </tr>\n",
       "    <tr>\n",
       "      <th>4</th>\n",
       "      <td>p106</td>\n",
       "      <td>Laptop Hp</td>\n",
       "      <td>Electronics</td>\n",
       "      <td>Computer</td>\n",
       "      <td>67200.0</td>\n",
       "      <td>55000.99</td>\n",
       "      <td>50</td>\n",
       "    </tr>\n",
       "    <tr>\n",
       "      <th>2</th>\n",
       "      <td>p104</td>\n",
       "      <td>Smartphone</td>\n",
       "      <td>Electronics</td>\n",
       "      <td>Phone</td>\n",
       "      <td>45000.0</td>\n",
       "      <td>40000.00</td>\n",
       "      <td>20</td>\n",
       "    </tr>\n",
       "    <tr>\n",
       "      <th>0</th>\n",
       "      <td>p102</td>\n",
       "      <td>Chair</td>\n",
       "      <td>furniture</td>\n",
       "      <td>Chairs</td>\n",
       "      <td>20000.0</td>\n",
       "      <td>15000.00</td>\n",
       "      <td>10</td>\n",
       "    </tr>\n",
       "    <tr>\n",
       "      <th>3</th>\n",
       "      <td>p105</td>\n",
       "      <td>Blender</td>\n",
       "      <td>Appliance</td>\n",
       "      <td>Electronics</td>\n",
       "      <td>500.0</td>\n",
       "      <td>450.00</td>\n",
       "      <td>10</td>\n",
       "    </tr>\n",
       "  </tbody>\n",
       "</table>\n",
       "</div>"
      ],
      "text/plain": [
       "  product_id product_name     category sub_category  original_price  \\\n",
       "1       p103       Laptop  Electronics     computer         60000.0   \n",
       "4       p106    Laptop Hp  Electronics     Computer         67200.0   \n",
       "2       p104   Smartphone  Electronics        Phone         45000.0   \n",
       "0       p102        Chair    furniture       Chairs         20000.0   \n",
       "3       p105      Blender    Appliance  Electronics           500.0   \n",
       "\n",
       "   selling_price  stock  \n",
       "1       55000.00     50  \n",
       "4       55000.99     50  \n",
       "2       40000.00     20  \n",
       "0       15000.00     10  \n",
       "3         450.00     10  "
      ]
     },
     "execution_count": 36,
     "metadata": {},
     "output_type": "execute_result"
    }
   ],
   "source": [
    "top_order"
   ]
  },
  {
   "cell_type": "code",
   "execution_count": 37,
   "metadata": {},
   "outputs": [
    {
     "data": {
      "image/png": "[encoded data removed]",
      "text/plain": [
       "<Figure size 640x480 with 1 Axes>"
      ]
     },
     "metadata": {},
     "output_type": "display_data"
    }
   ],
   "source": [
    "plt.bar(top_order['product_name'],top_order['stock'],color='skyblue')\n",
    "plt.title(\"Total number of orders product wise with products\")\n",
    "plt.xlabel(\"Product Name\")\n",
    "plt.ylabel('Number of Orders')\n",
    "plt.show()"
   ]
  },
  {
   "cell_type": "code",
   "execution_count": 39,
   "metadata": {},
   "outputs": [],
   "source": [
    "order_status_count=order_data['order_status'].value_counts()"
   ]
  },
  {
   "cell_type": "code",
   "execution_count": 40,
   "metadata": {},
   "outputs": [
    {
     "data": {
      "text/plain": [
       "order_status\n",
       "Delivered    3\n",
       "Pending      2\n",
       "Name: count, dtype: int64"
      ]
     },
     "execution_count": 40,
     "metadata": {},
     "output_type": "execute_result"
    }
   ],
   "source": [
    "order_status_count"
   ]
  },
  {
   "cell_type": "code",
   "execution_count": 41,
   "metadata": {},
   "outputs": [
    {
     "data": {
      "image/png": "[encoded data removed]",
      "text/plain": [
       "<Figure size 1000x800 with 1 Axes>"
      ]
     },
     "metadata": {},
     "output_type": "display_data"
    }
   ],
   "source": [
    "plt.figure(figsize=(10,8))\n",
    "order_status_count.plot(kind='bar',color='skyblue')\n",
    "plt.title(\"Orde status Distribution:\")\n",
    "plt.xlabel('Order Stauts')\n",
    "plt.ylabel('Number of order')\n",
    "plt.show()"
   ]
  },
  {
   "cell_type": "code",
   "execution_count": 42,
   "metadata": {},
   "outputs": [
    {
     "data": {
      "text/html": [
       "<div>\n",
       "<style scoped>\n",
       "    .dataframe tbody tr th:only-of-type {\n",
       "        vertical-align: middle;\n",
       "    }\n",
       "\n",
       "    .dataframe tbody tr th {\n",
       "        vertical-align: top;\n",
       "    }\n",
       "\n",
       "    .dataframe thead th {\n",
       "        text-align: right;\n",
       "    }\n",
       "</style>\n",
       "<table border=\"1\" class=\"dataframe\">\n",
       "  <thead>\n",
       "    <tr style=\"text-align: right;\">\n",
       "      <th></th>\n",
       "      <th>product_id</th>\n",
       "      <th>product_name</th>\n",
       "      <th>category</th>\n",
       "      <th>sub_category</th>\n",
       "      <th>original_price</th>\n",
       "      <th>selling_price</th>\n",
       "      <th>stock</th>\n",
       "    </tr>\n",
       "  </thead>\n",
       "  <tbody>\n",
       "    <tr>\n",
       "      <th>0</th>\n",
       "      <td>p102</td>\n",
       "      <td>Chair</td>\n",
       "      <td>furniture</td>\n",
       "      <td>Chairs</td>\n",
       "      <td>20000.0</td>\n",
       "      <td>15000.00</td>\n",
       "      <td>10</td>\n",
       "    </tr>\n",
       "    <tr>\n",
       "      <th>1</th>\n",
       "      <td>p103</td>\n",
       "      <td>Laptop</td>\n",
       "      <td>Electronics</td>\n",
       "      <td>computer</td>\n",
       "      <td>60000.0</td>\n",
       "      <td>55000.00</td>\n",
       "      <td>50</td>\n",
       "    </tr>\n",
       "    <tr>\n",
       "      <th>2</th>\n",
       "      <td>p104</td>\n",
       "      <td>Smartphone</td>\n",
       "      <td>Electronics</td>\n",
       "      <td>Phone</td>\n",
       "      <td>45000.0</td>\n",
       "      <td>40000.00</td>\n",
       "      <td>20</td>\n",
       "    </tr>\n",
       "    <tr>\n",
       "      <th>3</th>\n",
       "      <td>p105</td>\n",
       "      <td>Blender</td>\n",
       "      <td>Appliance</td>\n",
       "      <td>Electronics</td>\n",
       "      <td>500.0</td>\n",
       "      <td>450.00</td>\n",
       "      <td>10</td>\n",
       "    </tr>\n",
       "    <tr>\n",
       "      <th>4</th>\n",
       "      <td>p106</td>\n",
       "      <td>Laptop Hp</td>\n",
       "      <td>Electronics</td>\n",
       "      <td>Computer</td>\n",
       "      <td>67200.0</td>\n",
       "      <td>55000.99</td>\n",
       "      <td>50</td>\n",
       "    </tr>\n",
       "  </tbody>\n",
       "</table>\n",
       "</div>"
      ],
      "text/plain": [
       "  product_id product_name     category sub_category  original_price  \\\n",
       "0       p102        Chair    furniture       Chairs         20000.0   \n",
       "1       p103       Laptop  Electronics     computer         60000.0   \n",
       "2       p104   Smartphone  Electronics        Phone         45000.0   \n",
       "3       p105      Blender    Appliance  Electronics           500.0   \n",
       "4       p106    Laptop Hp  Electronics     Computer         67200.0   \n",
       "\n",
       "   selling_price  stock  \n",
       "0       15000.00     10  \n",
       "1       55000.00     50  \n",
       "2       40000.00     20  \n",
       "3         450.00     10  \n",
       "4       55000.99     50  "
      ]
     },
     "execution_count": 42,
     "metadata": {},
     "output_type": "execute_result"
    }
   ],
   "source": [
    "product_data"
   ]
  },
  {
   "cell_type": "code",
   "execution_count": 43,
   "metadata": {},
   "outputs": [
    {
     "data": {
      "text/plain": [
       "0    p102\n",
       "1    p103\n",
       "2    p104\n",
       "3    p105\n",
       "4    p106\n",
       "Name: product_id, dtype: object"
      ]
     },
     "execution_count": 43,
     "metadata": {},
     "output_type": "execute_result"
    }
   ],
   "source": [
    "product_data['product_id']"
   ]
  },
  {
   "cell_type": "code",
   "execution_count": 54,
   "metadata": {},
   "outputs": [
    {
     "ename": "KeyError",
     "evalue": "'product_name'",
     "output_type": "error",
     "traceback": [
      "\u001b[1;31m---------------------------------------------------------------------------\u001b[0m",
      "\u001b[1;31mKeyError\u001b[0m                                  Traceback (most recent call last)",
      "Cell \u001b[1;32mIn[54], line 1\u001b[0m\n\u001b[1;32m----> 1\u001b[0m product_quantity \u001b[38;5;241m=\u001b[39m \u001b[43morder_data\u001b[49m\u001b[38;5;241;43m.\u001b[39;49m\u001b[43mgroupby\u001b[49m\u001b[43m(\u001b[49m\u001b[38;5;124;43m'\u001b[39;49m\u001b[38;5;124;43mproduct_name\u001b[39;49m\u001b[38;5;124;43m'\u001b[39;49m\u001b[43m)\u001b[49m[\u001b[38;5;124m'\u001b[39m\u001b[38;5;124mquantity\u001b[39m\u001b[38;5;124m'\u001b[39m]\u001b[38;5;241m.\u001b[39msum()\u001b[38;5;241m.\u001b[39mreset_index()\n",
      "File \u001b[1;32mc:\\Users\\DELL\\.conda\\envs\\Mlproject\\lib\\site-packages\\pandas\\core\\frame.py:9183\u001b[0m, in \u001b[0;36mDataFrame.groupby\u001b[1;34m(self, by, axis, level, as_index, sort, group_keys, observed, dropna)\u001b[0m\n\u001b[0;32m   9180\u001b[0m \u001b[38;5;28;01mif\u001b[39;00m level \u001b[38;5;129;01mis\u001b[39;00m \u001b[38;5;28;01mNone\u001b[39;00m \u001b[38;5;129;01mand\u001b[39;00m by \u001b[38;5;129;01mis\u001b[39;00m \u001b[38;5;28;01mNone\u001b[39;00m:\n\u001b[0;32m   9181\u001b[0m     \u001b[38;5;28;01mraise\u001b[39;00m \u001b[38;5;167;01mTypeError\u001b[39;00m(\u001b[38;5;124m\"\u001b[39m\u001b[38;5;124mYou have to supply one of \u001b[39m\u001b[38;5;124m'\u001b[39m\u001b[38;5;124mby\u001b[39m\u001b[38;5;124m'\u001b[39m\u001b[38;5;124m and \u001b[39m\u001b[38;5;124m'\u001b[39m\u001b[38;5;124mlevel\u001b[39m\u001b[38;5;124m'\u001b[39m\u001b[38;5;124m\"\u001b[39m)\n\u001b[1;32m-> 9183\u001b[0m \u001b[38;5;28;01mreturn\u001b[39;00m \u001b[43mDataFrameGroupBy\u001b[49m\u001b[43m(\u001b[49m\n\u001b[0;32m   9184\u001b[0m \u001b[43m    \u001b[49m\u001b[43mobj\u001b[49m\u001b[38;5;241;43m=\u001b[39;49m\u001b[38;5;28;43mself\u001b[39;49m\u001b[43m,\u001b[49m\n\u001b[0;32m   9185\u001b[0m \u001b[43m    \u001b[49m\u001b[43mkeys\u001b[49m\u001b[38;5;241;43m=\u001b[39;49m\u001b[43mby\u001b[49m\u001b[43m,\u001b[49m\n\u001b[0;32m   9186\u001b[0m \u001b[43m    \u001b[49m\u001b[43maxis\u001b[49m\u001b[38;5;241;43m=\u001b[39;49m\u001b[43maxis\u001b[49m\u001b[43m,\u001b[49m\n\u001b[0;32m   9187\u001b[0m \u001b[43m    \u001b[49m\u001b[43mlevel\u001b[49m\u001b[38;5;241;43m=\u001b[39;49m\u001b[43mlevel\u001b[49m\u001b[43m,\u001b[49m\n\u001b[0;32m   9188\u001b[0m \u001b[43m    \u001b[49m\u001b[43mas_index\u001b[49m\u001b[38;5;241;43m=\u001b[39;49m\u001b[43mas_index\u001b[49m\u001b[43m,\u001b[49m\n\u001b[0;32m   9189\u001b[0m \u001b[43m    \u001b[49m\u001b[43msort\u001b[49m\u001b[38;5;241;43m=\u001b[39;49m\u001b[43msort\u001b[49m\u001b[43m,\u001b[49m\n\u001b[0;32m   9190\u001b[0m \u001b[43m    \u001b[49m\u001b[43mgroup_keys\u001b[49m\u001b[38;5;241;43m=\u001b[39;49m\u001b[43mgroup_keys\u001b[49m\u001b[43m,\u001b[49m\n\u001b[0;32m   9191\u001b[0m \u001b[43m    \u001b[49m\u001b[43mobserved\u001b[49m\u001b[38;5;241;43m=\u001b[39;49m\u001b[43mobserved\u001b[49m\u001b[43m,\u001b[49m\n\u001b[0;32m   9192\u001b[0m \u001b[43m    \u001b[49m\u001b[43mdropna\u001b[49m\u001b[38;5;241;43m=\u001b[39;49m\u001b[43mdropna\u001b[49m\u001b[43m,\u001b[49m\n\u001b[0;32m   9193\u001b[0m \u001b[43m\u001b[49m\u001b[43m)\u001b[49m\n",
      "File \u001b[1;32mc:\\Users\\DELL\\.conda\\envs\\Mlproject\\lib\\site-packages\\pandas\\core\\groupby\\groupby.py:1329\u001b[0m, in \u001b[0;36mGroupBy.__init__\u001b[1;34m(self, obj, keys, axis, level, grouper, exclusions, selection, as_index, sort, group_keys, observed, dropna)\u001b[0m\n\u001b[0;32m   1326\u001b[0m \u001b[38;5;28mself\u001b[39m\u001b[38;5;241m.\u001b[39mdropna \u001b[38;5;241m=\u001b[39m dropna\n\u001b[0;32m   1328\u001b[0m \u001b[38;5;28;01mif\u001b[39;00m grouper \u001b[38;5;129;01mis\u001b[39;00m \u001b[38;5;28;01mNone\u001b[39;00m:\n\u001b[1;32m-> 1329\u001b[0m     grouper, exclusions, obj \u001b[38;5;241m=\u001b[39m \u001b[43mget_grouper\u001b[49m\u001b[43m(\u001b[49m\n\u001b[0;32m   1330\u001b[0m \u001b[43m        \u001b[49m\u001b[43mobj\u001b[49m\u001b[43m,\u001b[49m\n\u001b[0;32m   1331\u001b[0m \u001b[43m        \u001b[49m\u001b[43mkeys\u001b[49m\u001b[43m,\u001b[49m\n\u001b[0;32m   1332\u001b[0m \u001b[43m        \u001b[49m\u001b[43maxis\u001b[49m\u001b[38;5;241;43m=\u001b[39;49m\u001b[43maxis\u001b[49m\u001b[43m,\u001b[49m\n\u001b[0;32m   1333\u001b[0m \u001b[43m        \u001b[49m\u001b[43mlevel\u001b[49m\u001b[38;5;241;43m=\u001b[39;49m\u001b[43mlevel\u001b[49m\u001b[43m,\u001b[49m\n\u001b[0;32m   1334\u001b[0m \u001b[43m        \u001b[49m\u001b[43msort\u001b[49m\u001b[38;5;241;43m=\u001b[39;49m\u001b[43msort\u001b[49m\u001b[43m,\u001b[49m\n\u001b[0;32m   1335\u001b[0m \u001b[43m        \u001b[49m\u001b[43mobserved\u001b[49m\u001b[38;5;241;43m=\u001b[39;49m\u001b[38;5;28;43;01mFalse\u001b[39;49;00m\u001b[43m \u001b[49m\u001b[38;5;28;43;01mif\u001b[39;49;00m\u001b[43m \u001b[49m\u001b[43mobserved\u001b[49m\u001b[43m \u001b[49m\u001b[38;5;129;43;01mis\u001b[39;49;00m\u001b[43m \u001b[49m\u001b[43mlib\u001b[49m\u001b[38;5;241;43m.\u001b[39;49m\u001b[43mno_default\u001b[49m\u001b[43m \u001b[49m\u001b[38;5;28;43;01melse\u001b[39;49;00m\u001b[43m \u001b[49m\u001b[43mobserved\u001b[49m\u001b[43m,\u001b[49m\n\u001b[0;32m   1336\u001b[0m \u001b[43m        \u001b[49m\u001b[43mdropna\u001b[49m\u001b[38;5;241;43m=\u001b[39;49m\u001b[38;5;28;43mself\u001b[39;49m\u001b[38;5;241;43m.\u001b[39;49m\u001b[43mdropna\u001b[49m\u001b[43m,\u001b[49m\n\u001b[0;32m   1337\u001b[0m \u001b[43m    \u001b[49m\u001b[43m)\u001b[49m\n\u001b[0;32m   1339\u001b[0m \u001b[38;5;28;01mif\u001b[39;00m observed \u001b[38;5;129;01mis\u001b[39;00m lib\u001b[38;5;241m.\u001b[39mno_default:\n\u001b[0;32m   1340\u001b[0m     \u001b[38;5;28;01mif\u001b[39;00m \u001b[38;5;28many\u001b[39m(ping\u001b[38;5;241m.\u001b[39m_passed_categorical \u001b[38;5;28;01mfor\u001b[39;00m ping \u001b[38;5;129;01min\u001b[39;00m grouper\u001b[38;5;241m.\u001b[39mgroupings):\n",
      "File \u001b[1;32mc:\\Users\\DELL\\.conda\\envs\\Mlproject\\lib\\site-packages\\pandas\\core\\groupby\\grouper.py:1043\u001b[0m, in \u001b[0;36mget_grouper\u001b[1;34m(obj, key, axis, level, sort, observed, validate, dropna)\u001b[0m\n\u001b[0;32m   1041\u001b[0m         in_axis, level, gpr \u001b[38;5;241m=\u001b[39m \u001b[38;5;28;01mFalse\u001b[39;00m, gpr, \u001b[38;5;28;01mNone\u001b[39;00m\n\u001b[0;32m   1042\u001b[0m     \u001b[38;5;28;01melse\u001b[39;00m:\n\u001b[1;32m-> 1043\u001b[0m         \u001b[38;5;28;01mraise\u001b[39;00m \u001b[38;5;167;01mKeyError\u001b[39;00m(gpr)\n\u001b[0;32m   1044\u001b[0m \u001b[38;5;28;01melif\u001b[39;00m \u001b[38;5;28misinstance\u001b[39m(gpr, Grouper) \u001b[38;5;129;01mand\u001b[39;00m gpr\u001b[38;5;241m.\u001b[39mkey \u001b[38;5;129;01mis\u001b[39;00m \u001b[38;5;129;01mnot\u001b[39;00m \u001b[38;5;28;01mNone\u001b[39;00m:\n\u001b[0;32m   1045\u001b[0m     \u001b[38;5;66;03m# Add key to exclusions\u001b[39;00m\n\u001b[0;32m   1046\u001b[0m     exclusions\u001b[38;5;241m.\u001b[39madd(gpr\u001b[38;5;241m.\u001b[39mkey)\n",
      "\u001b[1;31mKeyError\u001b[0m: 'product_name'"
     ]
    }
   ],
   "source": [
    "product_quantity = order_data.groupby('product_name')['quantity'].sum().reset_index()"
   ]
  },
  {
   "cell_type": "code",
   "execution_count": 49,
   "metadata": {},
   "outputs": [
    {
     "data": {
      "text/html": [
       "<div>\n",
       "<style scoped>\n",
       "    .dataframe tbody tr th:only-of-type {\n",
       "        vertical-align: middle;\n",
       "    }\n",
       "\n",
       "    .dataframe tbody tr th {\n",
       "        vertical-align: top;\n",
       "    }\n",
       "\n",
       "    .dataframe thead th {\n",
       "        text-align: right;\n",
       "    }\n",
       "</style>\n",
       "<table border=\"1\" class=\"dataframe\">\n",
       "  <thead>\n",
       "    <tr style=\"text-align: right;\">\n",
       "      <th></th>\n",
       "      <th>product_id</th>\n",
       "      <th>quantity</th>\n",
       "    </tr>\n",
       "  </thead>\n",
       "  <tbody>\n",
       "    <tr>\n",
       "      <th>0</th>\n",
       "      <td>P102</td>\n",
       "      <td>1.0</td>\n",
       "    </tr>\n",
       "    <tr>\n",
       "      <th>1</th>\n",
       "      <td>P103</td>\n",
       "      <td>1.0</td>\n",
       "    </tr>\n",
       "    <tr>\n",
       "      <th>2</th>\n",
       "      <td>P104</td>\n",
       "      <td>1.0</td>\n",
       "    </tr>\n",
       "    <tr>\n",
       "      <th>3</th>\n",
       "      <td>P105</td>\n",
       "      <td>1.0</td>\n",
       "    </tr>\n",
       "    <tr>\n",
       "      <th>4</th>\n",
       "      <td>P106</td>\n",
       "      <td>1.0</td>\n",
       "    </tr>\n",
       "  </tbody>\n",
       "</table>\n",
       "</div>"
      ],
      "text/plain": [
       "  product_id  quantity\n",
       "0       P102       1.0\n",
       "1       P103       1.0\n",
       "2       P104       1.0\n",
       "3       P105       1.0\n",
       "4       P106       1.0"
      ]
     },
     "execution_count": 49,
     "metadata": {},
     "output_type": "execute_result"
    }
   ],
   "source": [
    "product_quantity"
   ]
  },
  {
   "cell_type": "code",
   "execution_count": 51,
   "metadata": {},
   "outputs": [],
   "source": [
    "product_quantity_sorted = product_quantity.sort_values(by='quantity', ascending=False)"
   ]
  },
  {
   "cell_type": "code",
   "execution_count": 52,
   "metadata": {},
   "outputs": [
    {
     "data": {
      "text/html": [
       "<div>\n",
       "<style scoped>\n",
       "    .dataframe tbody tr th:only-of-type {\n",
       "        vertical-align: middle;\n",
       "    }\n",
       "\n",
       "    .dataframe tbody tr th {\n",
       "        vertical-align: top;\n",
       "    }\n",
       "\n",
       "    .dataframe thead th {\n",
       "        text-align: right;\n",
       "    }\n",
       "</style>\n",
       "<table border=\"1\" class=\"dataframe\">\n",
       "  <thead>\n",
       "    <tr style=\"text-align: right;\">\n",
       "      <th></th>\n",
       "      <th>product_id</th>\n",
       "      <th>quantity</th>\n",
       "    </tr>\n",
       "  </thead>\n",
       "  <tbody>\n",
       "    <tr>\n",
       "      <th>0</th>\n",
       "      <td>P102</td>\n",
       "      <td>1.0</td>\n",
       "    </tr>\n",
       "    <tr>\n",
       "      <th>1</th>\n",
       "      <td>P103</td>\n",
       "      <td>1.0</td>\n",
       "    </tr>\n",
       "    <tr>\n",
       "      <th>2</th>\n",
       "      <td>P104</td>\n",
       "      <td>1.0</td>\n",
       "    </tr>\n",
       "    <tr>\n",
       "      <th>3</th>\n",
       "      <td>P105</td>\n",
       "      <td>1.0</td>\n",
       "    </tr>\n",
       "    <tr>\n",
       "      <th>4</th>\n",
       "      <td>P106</td>\n",
       "      <td>1.0</td>\n",
       "    </tr>\n",
       "  </tbody>\n",
       "</table>\n",
       "</div>"
      ],
      "text/plain": [
       "  product_id  quantity\n",
       "0       P102       1.0\n",
       "1       P103       1.0\n",
       "2       P104       1.0\n",
       "3       P105       1.0\n",
       "4       P106       1.0"
      ]
     },
     "execution_count": 52,
     "metadata": {},
     "output_type": "execute_result"
    }
   ],
   "source": [
    "product_quantity_sorted "
   ]
  },
  {
   "cell_type": "code",
   "execution_count": 53,
   "metadata": {},
   "outputs": [
    {
     "data": {
      "image/png": "[encoded data removed]",
      "text/plain": [
       "<Figure size 1000x600 with 1 Axes>"
      ]
     },
     "metadata": {},
     "output_type": "display_data"
    }
   ],
   "source": [
    "top_n = 10  # Set the number of top products you want to visualize\n",
    "top_products = product_quantity_sorted.head(top_n)\n",
    "\n",
    "# Create a bar plot\n",
    "plt.figure(figsize=(10, 6))\n",
    "plt.bar(top_products['product_id'], top_products['quantity'], color='skyblue')\n",
    "plt.title('Top 10 Most Popular Products by Order Quantity')\n",
    "plt.xlabel('Product ID')\n",
    "plt.ylabel('Total Quantity Ordered')\n",
    "plt.xticks(rotation=45)\n",
    "plt.show()"
   ]
  },
  {
   "cell_type": "code",
   "execution_count": 55,
   "metadata": {},
   "outputs": [
    {
     "data": {
      "text/html": [
       "<div>\n",
       "<style scoped>\n",
       "    .dataframe tbody tr th:only-of-type {\n",
       "        vertical-align: middle;\n",
       "    }\n",
       "\n",
       "    .dataframe tbody tr th {\n",
       "        vertical-align: top;\n",
       "    }\n",
       "\n",
       "    .dataframe thead th {\n",
       "        text-align: right;\n",
       "    }\n",
       "</style>\n",
       "<table border=\"1\" class=\"dataframe\">\n",
       "  <thead>\n",
       "    <tr style=\"text-align: right;\">\n",
       "      <th></th>\n",
       "      <th>order_id</th>\n",
       "      <th>customer_id</th>\n",
       "      <th>product_id</th>\n",
       "      <th>quantity</th>\n",
       "      <th>total_price</th>\n",
       "      <th>payment_mode</th>\n",
       "      <th>order_date</th>\n",
       "      <th>order_status</th>\n",
       "    </tr>\n",
       "  </thead>\n",
       "  <tbody>\n",
       "    <tr>\n",
       "      <th>0</th>\n",
       "      <td>3</td>\n",
       "      <td>c1004</td>\n",
       "      <td>P102</td>\n",
       "      <td>1.0</td>\n",
       "      <td>1000.0</td>\n",
       "      <td>CDD</td>\n",
       "      <td>2023-11-30</td>\n",
       "      <td>Pending</td>\n",
       "    </tr>\n",
       "    <tr>\n",
       "      <th>1</th>\n",
       "      <td>4</td>\n",
       "      <td>c1005</td>\n",
       "      <td>P103</td>\n",
       "      <td>1.0</td>\n",
       "      <td>20000.0</td>\n",
       "      <td>CDD</td>\n",
       "      <td>2023-11-30</td>\n",
       "      <td>Pending</td>\n",
       "    </tr>\n",
       "    <tr>\n",
       "      <th>2</th>\n",
       "      <td>5</td>\n",
       "      <td>c1005</td>\n",
       "      <td>P104</td>\n",
       "      <td>1.0</td>\n",
       "      <td>20000.0</td>\n",
       "      <td>CDD</td>\n",
       "      <td>2023-12-08</td>\n",
       "      <td>Delivered</td>\n",
       "    </tr>\n",
       "    <tr>\n",
       "      <th>3</th>\n",
       "      <td>7</td>\n",
       "      <td>c1002</td>\n",
       "      <td>P105</td>\n",
       "      <td>1.0</td>\n",
       "      <td>55000.0</td>\n",
       "      <td>CDD</td>\n",
       "      <td>2023-12-15</td>\n",
       "      <td>Delivered</td>\n",
       "    </tr>\n",
       "    <tr>\n",
       "      <th>4</th>\n",
       "      <td>8</td>\n",
       "      <td>c1003</td>\n",
       "      <td>P106</td>\n",
       "      <td>1.0</td>\n",
       "      <td>15000.0</td>\n",
       "      <td>CDD</td>\n",
       "      <td>2023-12-01</td>\n",
       "      <td>Delivered</td>\n",
       "    </tr>\n",
       "  </tbody>\n",
       "</table>\n",
       "</div>"
      ],
      "text/plain": [
       "   order_id customer_id product_id  quantity  total_price payment_mode  \\\n",
       "0         3       c1004       P102       1.0       1000.0          CDD   \n",
       "1         4       c1005       P103       1.0      20000.0          CDD   \n",
       "2         5       c1005       P104       1.0      20000.0          CDD   \n",
       "3         7       c1002       P105       1.0      55000.0          CDD   \n",
       "4         8       c1003       P106       1.0      15000.0          CDD   \n",
       "\n",
       "  order_date order_status  \n",
       "0 2023-11-30      Pending  \n",
       "1 2023-11-30      Pending  \n",
       "2 2023-12-08    Delivered  \n",
       "3 2023-12-15    Delivered  \n",
       "4 2023-12-01    Delivered  "
      ]
     },
     "execution_count": 55,
     "metadata": {},
     "output_type": "execute_result"
    }
   ],
   "source": [
    "order_data\n"
   ]
  },
  {
   "cell_type": "code",
   "execution_count": 59,
   "metadata": {},
   "outputs": [
    {
     "name": "stdout",
     "output_type": "stream",
     "text": [
      "float64\n",
      "\n",
      "Top 10 orders product-wise:\n",
      "  product_id  total_price\n",
      "0       P105      55000.0\n",
      "1       P104      20000.0\n",
      "2       P103      20000.0\n",
      "3       P106      15000.0\n",
      "4       P102       1000.0\n"
     ]
    },
    {
     "data": {
      "text/plain": [
       "<BarContainer object of 5 artists>"
      ]
     },
     "execution_count": 59,
     "metadata": {},
     "output_type": "execute_result"
    },
    {
     "data": {
      "image/png": "[encoded data removed]",
      "text/plain": [
       "<Figure size 640x480 with 1 Axes>"
      ]
     },
     "metadata": {},
     "output_type": "display_data"
    }
   ],
   "source": [
    "# Top 10 orders product-wise\n",
    "print(order_data['total_price'].dtype)\n",
    "order_data['total_price'] = pd.to_numeric(order_data['total_price'], errors='coerce')\n",
    "order_data.dropna(subset=['total_price'], inplace=True)\n",
    "top_10_orders = order_data.groupby('product_id')['total_price'].sum().nlargest(10).reset_index()\n",
    "print(\"\\nTop 10 orders product-wise:\")\n",
    "print(top_10_orders)\n",
    "plt.bar(top_10_orders['product_id'], top_10_orders['total_price'], color='green')"
   ]
  },
  {
   "cell_type": "markdown",
   "metadata": {},
   "source": [
    "# Sales Analysis"
   ]
  },
  {
   "cell_type": "code",
   "execution_count": 60,
   "metadata": {},
   "outputs": [],
   "source": [
    "merged_data = pd.merge(order_data, product_data, on='product_id')"
   ]
  },
  {
   "cell_type": "code",
   "execution_count": 61,
   "metadata": {},
   "outputs": [
    {
     "data": {
      "text/html": [
       "<div>\n",
       "<style scoped>\n",
       "    .dataframe tbody tr th:only-of-type {\n",
       "        vertical-align: middle;\n",
       "    }\n",
       "\n",
       "    .dataframe tbody tr th {\n",
       "        vertical-align: top;\n",
       "    }\n",
       "\n",
       "    .dataframe thead th {\n",
       "        text-align: right;\n",
       "    }\n",
       "</style>\n",
       "<table border=\"1\" class=\"dataframe\">\n",
       "  <thead>\n",
       "    <tr style=\"text-align: right;\">\n",
       "      <th></th>\n",
       "      <th>order_id</th>\n",
       "      <th>customer_id</th>\n",
       "      <th>product_id</th>\n",
       "      <th>quantity</th>\n",
       "      <th>total_price</th>\n",
       "      <th>payment_mode</th>\n",
       "      <th>order_date</th>\n",
       "      <th>order_status</th>\n",
       "      <th>product_name</th>\n",
       "      <th>category</th>\n",
       "      <th>sub_category</th>\n",
       "      <th>original_price</th>\n",
       "      <th>selling_price</th>\n",
       "      <th>stock</th>\n",
       "    </tr>\n",
       "  </thead>\n",
       "  <tbody>\n",
       "  </tbody>\n",
       "</table>\n",
       "</div>"
      ],
      "text/plain": [
       "Empty DataFrame\n",
       "Columns: [order_id, customer_id, product_id, quantity, total_price, payment_mode, order_date, order_status, product_name, category, sub_category, original_price, selling_price, stock]\n",
       "Index: []"
      ]
     },
     "execution_count": 61,
     "metadata": {},
     "output_type": "execute_result"
    }
   ],
   "source": [
    "merged_data"
   ]
  },
  {
   "cell_type": "markdown",
   "metadata": {},
   "source": [
    "# Total revenue generated from orders product-wise"
   ]
  },
  {
   "cell_type": "code",
   "execution_count": null,
   "metadata": {},
   "outputs": [],
   "source": [
    "revenue_productwise = merged_data.groupby('product_id')['total_price'].sum().reset_index()\n",
    "print(\"\\nTotal revenue generated from orders product-wise:\")\n",
    "print(revenue_productwise)\n",
    "plt.bar(revenue_productwise['product_id'], revenue_productwise['total_price'], color='purple')\n",
    "plt.title(\"Revenue Generated product wise\")\n",
    "plt.xlabel('product id')\n",
    "plt.ylabel('Total price')\n",
    "plt.show()"
   ]
  },
  {
   "cell_type": "markdown",
   "metadata": {},
   "source": [
    "# Total revenue by product category percentage"
   ]
  },
  {
   "cell_type": "code",
   "execution_count": 67,
   "metadata": {},
   "outputs": [
    {
     "name": "stdout",
     "output_type": "stream",
     "text": [
      "\n",
      "Total revenue by product category (percentage):\n",
      "Series([], Name: total_price, dtype: float64)\n"
     ]
    }
   ],
   "source": [
    "category_revenue = merged_data.groupby('category')['total_price'].sum()\n",
    "category_revenue_percentage = (category_revenue / category_revenue.sum()) * 100\n",
    "print(\"\\nTotal revenue by product category (percentage):\")\n",
    "print(category_revenue_percentage)"
   ]
  },
  {
   "cell_type": "markdown",
   "metadata": {},
   "source": [
    "# Pie Chart: Revenue by product category (percentage)"
   ]
  },
  {
   "cell_type": "code",
   "execution_count": null,
   "metadata": {},
   "outputs": [],
   "source": [
    "plt.figure(figsize=(8, 8))\n",
    "plt.pie(category_revenue_percentage, labels=category_revenue.index, autopct='%1.1f%%', startangle=140)\n",
    "plt.title('Revenue by Product Category (Percentage)')\n",
    "plt.tight_layout()\n",
    "plt.show()"
   ]
  },
  {
   "cell_type": "markdown",
   "metadata": {},
   "source": [
    "# -------------- Time-based Analysis ---------------- #"
   ]
  },
  {
   "cell_type": "code",
   "execution_count": 69,
   "metadata": {},
   "outputs": [
    {
     "name": "stdout",
     "output_type": "stream",
     "text": [
      "\n",
      "Month-wise total sales:\n",
      "  order_date  total_price\n",
      "0    2023-11      21000.0\n",
      "1    2023-12      90000.0\n"
     ]
    }
   ],
   "source": [
    "# Month-wise total sales\n",
    "order_data['order_date'] = pd.to_datetime(order_data['order_date'])\n",
    "monthwise_sales = order_data.groupby(order_data['order_date'].dt.to_period('M'))['total_price'].sum().reset_index()\n",
    "print(\"\\nMonth-wise total sales:\")\n",
    "print(monthwise_sales)"
   ]
  },
  {
   "cell_type": "markdown",
   "metadata": {},
   "source": [
    "# Line Chart: Month-wise total sales"
   ]
  },
  {
   "cell_type": "code",
   "execution_count": 70,
   "metadata": {},
   "outputs": [
    {
     "data": {
      "image/png": "[encoded data removed]",
      "text/plain": [
       "<Figure size 1000x500 with 1 Axes>"
      ]
     },
     "metadata": {},
     "output_type": "display_data"
    }
   ],
   "source": [
    "plt.figure(figsize=(10, 5))\n",
    "plt.plot(monthwise_sales['order_date'].astype(str), monthwise_sales['total_price'], marker='o', color='darkblue')\n",
    "plt.title('Month-wise Total Sales')\n",
    "plt.xlabel('Month')\n",
    "plt.ylabel('Total Sales')\n",
    "plt.xticks(rotation=45)\n",
    "plt.tight_layout()\n",
    "plt.show()"
   ]
  },
  {
   "cell_type": "markdown",
   "metadata": {},
   "source": [
    "# -------------- Order Analysis ---------------- #"
   ]
  },
  {
   "cell_type": "code",
   "execution_count": 75,
   "metadata": {},
   "outputs": [
    {
     "name": "stdout",
     "output_type": "stream",
     "text": [
      "Most frequent customers:\n",
      "  customer_id  order_count\n",
      "0       c1005            2\n",
      "1       c1002            1\n",
      "2       c1003            1\n",
      "3       c1004            1\n"
     ]
    },
    {
     "data": {
      "text/plain": [
       "<BarContainer object of 4 artists>"
      ]
     },
     "execution_count": 75,
     "metadata": {},
     "output_type": "execute_result"
    },
    {
     "data": {
      "image/png": "[encoded data removed]",
      "text/plain": [
       "<Figure size 640x480 with 1 Axes>"
      ]
     },
     "metadata": {},
     "output_type": "display_data"
    }
   ],
   "source": [
    "# Most frequent customers (Top 10) based on order history\n",
    "customer_order_count = order_data.groupby('customer_id').size().nlargest(10).reset_index(name='order_count')\n",
    "print(\"Most frequent customers:\")\n",
    "print(customer_order_count)\n",
    "plt.bar(customer_order_count['customer_id'], customer_order_count['order_count'],color='blue' )"
   ]
  },
  {
   "cell_type": "code",
   "execution_count": 79,
   "metadata": {},
   "outputs": [
    {
     "name": "stdout",
     "output_type": "stream",
     "text": [
      "float64\n",
      "\n",
      "Top 10 orders product-wise:\n",
      "  product_id  total_price\n",
      "0       P105      55000.0\n",
      "1       P104      20000.0\n",
      "2       P103      20000.0\n",
      "3       P106      15000.0\n",
      "4       P102       1000.0\n"
     ]
    },
    {
     "data": {
      "image/png": "[encoded data removed]",
      "text/plain": [
       "<Figure size 640x480 with 1 Axes>"
      ]
     },
     "metadata": {},
     "output_type": "display_data"
    }
   ],
   "source": [
    "# Top 10 orders product-wise\n",
    "print(order_data['total_price'].dtype)\n",
    "order_data['total_price'] = pd.to_numeric(order_data['total_price'], errors='coerce')\n",
    "order_data.dropna(subset=['total_price'], inplace=True)\n",
    "top_10_orders = order_data.groupby('product_id')['total_price'].sum().nlargest(10).reset_index()\n",
    "print(\"\\nTop 10 orders product-wise:\")\n",
    "print(top_10_orders)\n",
    "plt.bar(top_10_orders['product_id'], top_10_orders['total_price'], color='orange')\n",
    "plt.title('Top 10 orders product wise')\n",
    "plt.xlabel('product id')\n",
    "plt.ylabel('Total price')\n",
    "plt.show()"
   ]
  },
  {
   "cell_type": "markdown",
   "metadata": {},
   "source": [
    "\n",
    "# -------------- Customer Retention Analysis ---------------- #"
   ]
  },
  {
   "cell_type": "code",
   "execution_count": 80,
   "metadata": {},
   "outputs": [
    {
     "name": "stdout",
     "output_type": "stream",
     "text": [
      "\n",
      "Repeat customers:\n",
      "  customer_id  order_count\n",
      "0       c1005            2\n"
     ]
    }
   ],
   "source": [
    "# Analyzing repeat customers and their order patterns\n",
    "repeat_customers = customer_order_count[customer_order_count['order_count'] > 1]\n",
    "print(\"\\nRepeat customers:\")\n",
    "print(repeat_customers)\n"
   ]
  },
  {
   "cell_type": "code",
   "execution_count": 81,
   "metadata": {},
   "outputs": [
    {
     "name": "stdout",
     "output_type": "stream",
     "text": [
      "\n",
      "Customer retention rate: 12.50%\n"
     ]
    }
   ],
   "source": [
    "# Customer retention rate as percentage\n",
    "customer_retention_rate = (len(repeat_customers) / len(customer_data)) * 100\n",
    "print(\"\\nCustomer retention rate: {:.2f}%\".format(customer_retention_rate))\n"
   ]
  },
  {
   "cell_type": "markdown",
   "metadata": {},
   "source": [
    "# -------------- Payment Analysis ---------------- #"
   ]
  },
  {
   "cell_type": "code",
   "execution_count": 82,
   "metadata": {},
   "outputs": [
    {
     "name": "stdout",
     "output_type": "stream",
     "text": [
      "\n",
      "Payment status (successful, pending):\n",
      "  order_status  count\n",
      "0    Delivered      3\n",
      "1      Pending      2\n"
     ]
    }
   ],
   "source": [
    "# Display successful and pending payments\n",
    "payment_status_count = order_data['order_status'].value_counts().reset_index(name='count')\n",
    "print(\"\\nPayment status (successful, pending):\")\n",
    "print(payment_status_count)"
   ]
  },
  {
   "cell_type": "code",
   "execution_count": null,
   "metadata": {},
   "outputs": [],
   "source": []
  }
 ],
 "metadata": {
  "kernelspec": {
   "display_name": "Mlproject",
   "language": "python",
   "name": "python3"
  },
  "language_info": {
   "codemirror_mode": {
    "name": "ipython",
    "version": 3
   },
   "file_extension": ".py",
   "mimetype": "text/x-python",
   "name": "python",
   "nbconvert_exporter": "python",
   "pygments_lexer": "ipython3",
   "version": "3.10.14"
  }
 },
 "nbformat": 4,
 "nbformat_minor": 2
}
